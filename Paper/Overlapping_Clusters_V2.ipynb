{
 "cells": [
  {
   "cell_type": "markdown",
   "metadata": {},
   "source": [
    "# Bayesian Functional Overlapping Clusters"
   ]
  },
  {
   "cell_type": "markdown",
   "metadata": {},
   "source": [
    "## Single Stochastic Process"
   ]
  },
  {
   "cell_type": "markdown",
   "metadata": {},
   "source": [
    "Let $X(t)$ be a realization from a stochastic process evaluated at time $t \\in \\mathcal{T}$ with $\\mathbb{E}\\{X(t)\\} = m(t)$ and $Cov\\{X(t),X(s)\\} = C(t,s)$. Assuming $X \\in L^2$ (square-integrable function), we can use the Karhunen-Loève Theorem to get the following:\n",
    "\n",
    "$$X(t) = m(t) + \\sum_{k=1}^\\infty Z_k e_k(t)$$\n",
    "\n",
    "where $Z_k = \\int_a^b Y_i(t) e_k(t) dt$ and $e_k(t)$ is an eigenvector corresponding to the eigenvalue $\\lambda_k$. We know that $\\mathbb{E}(Z_k) = 0$ and $Cov(Z_i, Z_j) = \\delta_{i=j}\\lambda_j$.\n",
    "\n",
    "Assume that $\\lambda_1 \\ge \\lambda_2 \\ge \\dots \\ge \\lambda_M \\ge \\dots$. We can then approximate $X(t)$ using a truncated Karhunen-Loève expansion (note, this approximation will mimize the mean square error):\n",
    "\n",
    "$$X(t) \\approx m(t) + \\sum_{k=1}^M Z_k e_k(t)$$\n",
    "\n",
    "Let $\\chi_k = \\frac{1}{\\sqrt{\\lambda_k}}\\int_a^b Y_i(t) e_k(t) dt = \\frac{1}{\\sqrt{\\lambda_k}}Z_k$. Thus we can rewrite our truncated KL expansion as \n",
    "\n",
    "$$X(t) \\approx m(t) + \\sum_{k=1}^M \\sqrt{\\lambda_k}\\chi_k e_k(t)$$\n",
    "where $\\chi_k \\sim \\mathcal{N}(0,1)$. Let $\\psi_k(t) = \\sqrt{\\lambda_k}e_k(t)$. Thus, we have\n",
    "\n",
    "$$X(t) \\approx m(t) + \\sum_{k=1}^M \\chi_k \\psi_k(t)$$\n",
    "\n",
    "We can approximate $m(t)$ and $\\psi_k(t)$ by using a basis expansion. Let $\\mathbf{S}(t) \\in \\mathbb{R}^p$ be a vector of basis functions evaluated at time $t$. Thus we have\n",
    "\n",
    "$$X(t) \\approx \\mathbf{S}(t)'\\boldsymbol{\\nu} + \\sum_{k=1}^M \\chi_k \\mathbf{S}(t)'\\boldsymbol{\\phi}_k = S(t)'\\boldsymbol{\\nu} + S(t)'\\boldsymbol{\\Phi}\\boldsymbol{\\chi}$$\n",
    "\n",
    "Using this framework, we have that $\\mathbb{E}\\{X(t)\\} = S(t)'\\boldsymbol{\\nu}$ and $Cov\\{X(t), X(s)\\} = S(t)'(\\boldsymbol{\\Phi}\\boldsymbol{\\Phi}')S(s)$. Due to the normality of $\\chi_k$, we have that $X(.) \\sim GP\\left(S(t)'\\boldsymbol{\\nu},  S(t)'(\\boldsymbol{\\Phi}\\boldsymbol{\\Phi}')S(s)\\right)$."
   ]
  },
  {
   "cell_type": "markdown",
   "metadata": {},
   "source": [
    "## Extension to Additive Mean Structure"
   ]
  },
  {
   "cell_type": "markdown",
   "metadata": {},
   "source": [
    "Let $m_1(t), \\dots, m_K(t)$ be $K$ different square-integrable functions. As in clustering, we can suppose that we have $K$ clusters and $m_1(t), \\dots, m_k(t)$ be the mean functions defining each of the $K$ clusters. Let $z_{l}$ be a latent variable that indicates whether or not $X$ belongs to the $k^{th}$ cluster. Unlike in clustering, we will restrict class membership to only one group (i.e. the restriction that $\\sum_l z_{l} = 1$ is removed). Assuming that the covariance function is the same regardless of class membership, we have\n",
    "\n",
    "$$X(t) \\approx \\left(\\sum_{l=1}^k z_l m_l(t)\\right) + \\sum_{k=1}^M \\chi_k \\psi_k(t)$$\n",
    "\n",
    "Using the basis approximation, we have\n",
    "$$X(t) \\approx \\left(\\sum_{l=1}^Kz_l\\mathbf{S}(t)'\\boldsymbol{\\nu}_l\\right) + \\sum_{k=1}^M \\chi_k \\mathbf{S}(t)'\\boldsymbol{\\phi}_k = \\left(\\sum_{l=1}^Kz_l\\mathbf{S}(t)'\\boldsymbol{\\nu}_l\\right) + S(t)'\\boldsymbol{\\Phi}\\boldsymbol{\\chi}$$\n",
    "\n",
    "Thus, we have that $X(.) \\sim GP\\left(\\sum_{l=1}^Kz_l\\mathbf{S}(t)'\\boldsymbol{\\nu}_l,S(t)'(\\boldsymbol{\\Phi}\\boldsymbol{\\Phi}')S(s)\\right)$\n"
   ]
  },
  {
   "cell_type": "markdown",
   "metadata": {},
   "source": [
    "## Extension to Individualized Covariance Functions"
   ]
  },
  {
   "cell_type": "markdown",
   "metadata": {},
   "source": [
    "When considering a model that allows for membership to multiple classes, it is important to note that we can rewrite this model (using more parameters) as a classical clustering model. Let $\\mathbf{Z}$ represent the class membership of an overlapping clusters model (where each row contains the memebership for an observation) and $\\mathbf{C}$ represent the class membership of a classical clustering model. Consider the following example."
   ]
  },
  {
   "cell_type": "markdown",
   "metadata": {},
   "source": [
    "$$\\mathbf{Z} = \n",
    "\\begin{bmatrix}\n",
    "1 & 0 & 0 & 0 & 0\\\\\n",
    "0 & 1 & 1 & 0 & 0\\\\\n",
    "1 & 0 & 1 & 0 & 0\\\\\n",
    "0 & 1 & 1 & 0 & 0\\\\\n",
    " & & \\vdots & & \\\\\n",
    "\\end{bmatrix} \\rightarrow \\begin{bmatrix}\n",
    "1 & 0 & 0 & 0 & \\dots \\\\\n",
    "0 & 1 & 0 & 0 & \\dots \\\\\n",
    "0 & 0 & 1 & 0 & \\dots \\\\\n",
    "0 & 1 & 0 & 0 & \\dots \\\\\n",
    "& & \\vdots & & \\\\ \n",
    "\\end{bmatrix}= \\mathbf{C}$$\n"
   ]
  },
  {
   "cell_type": "markdown",
   "metadata": {},
   "source": [
    "While there is not a unique mapping, let $\\Omega()$ be a mapping that maps the class membership matrix of the overlapping clusters model to the class membership matrix of the classical clustering model. Thus in the example above, $\\Omega(\\mathbf{z}_i) = \\mathbf{c}_i$ where $\\mathbf{z}_i$ and $\\mathbf{c}_i$ are the $i^{th}$ rows of the $\\mathbf{Z}$ and $\\mathbf{C}$ matrices respectively. Thus we can define the covariance of the stochastic process based off of $\\Omega(\\mathbf{z})$. Thus we have\n",
    "$$X(t) \\approx \\left(\\sum_{l=1}^k z_l m_l(t)\\right) + \\sum_{k=1}^M \\chi_k \\psi_{(k, \\Omega(\\mathbf{z}))}(t)$$\n",
    "\n",
    "Using the basis approximation, we have\n",
    "$$X(t) \\approx \\left(\\sum_{l=1}^Kz_l\\mathbf{S}(t)'\\boldsymbol{\\nu}_l\\right) + \\sum_{k=1}^M \\chi_k \\mathbf{S}(t)'\\boldsymbol{\\phi}_{(k, \\Omega(\\mathbf{z}))} = \\left(\\sum_{l=1}^Kz_l\\mathbf{S}(t)'\\boldsymbol{\\nu}_l\\right) + S(t)'\\boldsymbol{\\Phi}_{\\Omega(\\mathbf{z})}\\boldsymbol{\\chi}$$\n",
    "\n",
    "Thus, we have that $X(.) \\sim GP\\left(\\sum_{l=1}^Kz_l\\mathbf{S}(t)'\\boldsymbol{\\nu}_l,S(t)'(\\boldsymbol{\\Phi}_{\\Omega(\\mathbf{z})}\\boldsymbol{\\Phi}_{\\Omega(\\mathbf{z})}')S(s)\\right)$\n",
    "\n",
    "One downfall to this method is that it increases exponentially with respect to the number of clusters (for $K$ clusters, we have $2^K$ covariance matrices). One way that this can be minimized for large $K$ is to specify a maximum number of memberships for each observation. For example, if we have 30 clusters, without any restrictions on the membership, we could have to estimate up to roughly 1 billion covariance matrices. By limiting the group membership, we can reduce it to $4,525$ covariance matrices."
   ]
  },
  {
   "cell_type": "markdown",
   "metadata": {},
   "source": [
    "## Modeling"
   ]
  },
  {
   "cell_type": "markdown",
   "metadata": {},
   "source": [
    "Let $Y_i(t)$ be the observed samples from the $i^{th}$ stochastic process, where $i = 1, \\dots, n$. We will assume that there is some normal noise around the observed data points, and use the following model:\n",
    "$$Y_i(t) = f_i(t) + \\epsilon_i(t)$$\n",
    "where $\\epsilon_i(t) \\sim \\mathcal{N}(0, \\sigma^2_\\epsilon)$."
   ]
  },
  {
   "cell_type": "markdown",
   "metadata": {},
   "source": [
    "Let $\\mathbf{t}_i^{obs} = [t_1, t_2, \\dots, t_{\\tilde{n}_i}]$ be a vector of observed time points. Let \n",
    "$$f_i(.) \\sim GP\\left(\\sum_{l=1}^Kz_{il}\\mathbf{S}(t)'\\boldsymbol{\\nu}_l,S(t)'(\\boldsymbol{\\Phi}_{\\Omega(\\mathbf{z}_i)}\\boldsymbol{\\Phi}_{\\Omega(\\mathbf{z}_i)}')S(s)\\right)$$\n",
    "Let $S(\\mathbf{t}_i^{obs}) = [S(t_1), \\dots, S(t_{\\tilde{n}_i})] \\in \\mathbb{R}^{p \\times \\tilde{n}_i}$. Thus for $\\mathbf{t}_i^{obs}$, $i = 1, \\dots, n$, we have that\n",
    "$$f_i(\\mathbf{t}_i^{obs}) \\sim \\mathcal{N}\\left(\\sum_{l=1}^Kz_{il}\\mathbf{S}(\\mathbf{t}_i^{obs})'\\boldsymbol{\\nu}_l,S(\\mathbf{t}_i^{obs})'(\\boldsymbol{\\Phi}_{\\Omega(\\mathbf{z}_i)}\\boldsymbol{\\Phi}_{\\Omega(\\mathbf{z}_i)}')S(\\mathbf{t}_i^{obs})\\right)$$\n",
    "\n",
    "Let $\\mathbf{t}_i^* = [t_1, \\dots, t_{g_i}]$ be a set of unobserved time points such that $t_j \\in \\mathcal{T},\\; j = 1, \\dots, g_i$. Suppose we want to find $p(f_i(\\mathbf{t}_i^*)|f_i(\\mathbf{t}_i^{obs}))$. We know that\n",
    "$$p\\left(\\begin{bmatrix}\n",
    "f_i(\\mathbf{t}_{obs}) \\\\\n",
    "f_i(\\mathbf{t}^*)\n",
    "\\end{bmatrix}| \\mathbf{z}_i, \\boldsymbol{\\Theta}\\right) \\propto exp\\left\\{-\\frac{1}{2}\\begin{bmatrix}\n",
    "\\left(f_i(\\mathbf{t}_i^{obs}) - \\sum_{l=1}^Kz_{il}S'(\\mathbf{t}_i^{obs})\\boldsymbol{\\nu}_l\\right)' & \\left(f_i(\\mathbf{t}_i^*) - \\sum_{l=1}^Kz_{il}S'(\\mathbf{t}_i^*)\\boldsymbol{\\nu}_l\\right)'\\\\\n",
    "\\end{bmatrix}\\begin{bmatrix}\n",
    "S(\\mathbf{t}_i^{obs})'\\left(\\boldsymbol{\\Phi}_{\\Omega(\\mathbf{z}_i)}\\boldsymbol{\\Phi}_{\\Omega(\\mathbf{z}_i)}'\\right)S(\\mathbf{t}_i^{obs}) & S(\\mathbf{t}_i^{obs})'\\left(\\boldsymbol{\\Phi}_{\\Omega(\\mathbf{z}_i)}\\boldsymbol{\\Phi}_{\\Omega(\\mathbf{z}_i)}'\\right)S(\\mathbf{t}_i^*) \\\\\n",
    "S(\\mathbf{t}_i^*)'\\left(\\boldsymbol{\\Phi}_{\\Omega(\\mathbf{z}_i)}\\boldsymbol{\\Phi}_{\\Omega(\\mathbf{z}_i)}'\\right)S(\\mathbf{t}_i^{obs}) & S(\\mathbf{t}_i^*)'\\left(\\boldsymbol{\\Phi}_{\\Omega(\\mathbf{z}_i)}\\boldsymbol{\\Phi}_{\\Omega(\\mathbf{z}_i)}'\\right)S(\\mathbf{t}_i^*)\n",
    "\\end{bmatrix}^{+}\\begin{bmatrix}\n",
    "f_i(\\mathbf{t}_i^{obs}) - \\sum_{l=1}^Kz_{il}S'(\\mathbf{t}_i^{obs})\\boldsymbol{\\nu}_l\\\\\n",
    "f_i(\\mathbf{t}_i^*) - \\sum_{l=1}^Kz_{il}S'(\\mathbf{t}_i^*)\\boldsymbol{\\nu}_l\n",
    "\\end{bmatrix}\\right\\}$$"
   ]
  },
  {
   "cell_type": "markdown",
   "metadata": {},
   "source": [
    "Let $$\\begin{bmatrix}\n",
    "S(\\mathbf{t}_i^{obs})'\\left(\\boldsymbol{\\Phi}_{\\Omega(\\mathbf{z}_i)}\\boldsymbol{\\Phi}_{\\Omega(\\mathbf{z}_i)}'\\right)S(\\mathbf{t}_i^{obs}) & S(\\mathbf{t}_i^{obs})'\\left(\\boldsymbol{\\Phi}_{\\Omega(\\mathbf{z}_i)}\\boldsymbol{\\Phi}_{\\Omega(\\mathbf{z}_i)}'\\right)S(\\mathbf{t}_i^*) \\\\\n",
    "S(\\mathbf{t}_i^*)'\\left(\\boldsymbol{\\Phi}_{\\Omega(\\mathbf{z}_i)}\\boldsymbol{\\Phi}_{\\Omega(\\mathbf{z}_i)}'\\right)S(\\mathbf{t}_i^{obs}) & S(\\mathbf{t}_i^*)'\\left(\\boldsymbol{\\Phi}_{\\Omega(\\mathbf{z}_i)}\\boldsymbol{\\Phi}_{\\Omega(\\mathbf{z}_i)}'\\right)S(\\mathbf{t}_i^*)\n",
    "\\end{bmatrix}^{+} = \\begin{bmatrix}\n",
    "\\mathbf{A}_i & \\mathbf{B}_i \\\\\n",
    "\\mathbf{C}_i & \\mathbf{D}_i \\\\\n",
    "\\end{bmatrix}$$\n",
    "\n",
    "Thus we have\n",
    "\n",
    "$$ p\\left(\\begin{bmatrix}\n",
    "f_i(\\mathbf{t}_i^{obs}) \\\\\n",
    "f_i(\\mathbf{t}_i^*)\n",
    "\\end{bmatrix}| \\mathbf{z}_i, \\boldsymbol{\\Theta}\\right) \\propto exp \\left\\{-\\frac{1}{2}\\left[ f_i(\\mathbf{t}_i^*)'\\mathbf{D}_if_i(\\mathbf{t}_i^*) - 2f_i(\\mathbf{t}_i^*)' \\left(\\mathbf{C}_i\\left(\\sum_{l=1}^Kz_{il}S'(\\mathbf{t}_i^{obs})\\boldsymbol{\\nu}_l - f_i(\\mathbf{t}_i^{obs})\\right) + \\mathbf{D}_i\\left(\\sum_{l=1}^Kz_{il}S'(\\mathbf{t}_i^*)\\boldsymbol{\\nu}_l \\right)\\right)\\right]\\right\\}$$"
   ]
  },
  {
   "cell_type": "markdown",
   "metadata": {},
   "source": [
    "Thus letting $\\mathbf{M}_i = \\mathbf{D}_i^+$ and $\\mathbf{m}_i =  \\mathbf{C}_i\\left(\\sum_{l=1}^Kz_{il}S'(\\mathbf{t}_i^{obs})\\boldsymbol{\\nu}_l - f_i(\\mathbf{t}_i^{obs})\\right) + \\mathbf{D}_i\\left(\\sum_{l=1}^Kz_{il}S'(\\mathbf{t}_i^*)\\boldsymbol{\\nu}_l \\right)$\n",
    "$$f_i(\\mathbf{t}_i^*|\\mathbf{z}_i, \\boldsymbol{\\Theta}) \\sim \\mathcal{N}(\\mathbf{M}_i\\mathbf{m}_i, \\mathbf{M}_i)$$"
   ]
  },
  {
   "cell_type": "markdown",
   "metadata": {},
   "source": [
    "So far, we have the following:\n",
    "\n",
    "$$\\left[y_i(\\mathbf{t}^*), f_i(\\mathbf{t}^*), f_i(\\mathbf{t}_{obs}), \\boldsymbol{\\Theta}|y_i(\\mathbf{t}_{obs}) \\right] \\propto \\left[\\boldsymbol{\\Theta}\\right] \\times \\left[f_i(\\mathbf{t}_{obs})|\\boldsymbol{\\Theta}\\right] \\times \\left[y_i(\\mathbf{t}_{obs})| f_i(\\mathbf{t}_{obs}), \\boldsymbol{\\Theta}\\right]\\times \\left[f_i(\\mathbf{t}^*)|f_i(\\mathbf{t}_{obs}), \\boldsymbol{\\Theta}\\right] \\times \\left[y_i(\\mathbf{t}^*)|f_i(\\mathbf{t}^*), \\boldsymbol{\\Theta}\\right]$$\n",
    "\n",
    "We know that\n",
    "$$f_i(\\mathbf{t}_i^{obs}) \\sim \\mathcal{N}\\left(\\sum_{l=1}^Kz_{il}\\mathbf{S}(\\mathbf{t}_i^{obs})'\\boldsymbol{\\nu}_l,S(\\mathbf{t}_i^{obs})'(\\boldsymbol{\\Phi}_{\\Omega(\\mathbf{z}_i)}\\boldsymbol{\\Phi}_{\\Omega(\\mathbf{z}_i)}')S(\\mathbf{t}_i^{obs})\\right); \\;\\;\\; i = 1, \\dots, N$$\n",
    "$$\\left[y_i(\\mathbf{t}_{obs})| f_i(\\mathbf{t}_i^{obs}), \\boldsymbol{\\Theta}\\right] = \\mathcal{N}\\left(f_i(\\mathbf{t}_{obs}), \\sigma^2_\\epsilon \\mathbf{I}\\right); \\;\\;\\; i = 1,\\dots, N$$\n",
    "$$\\left[f_i(\\mathbf{t}^*)|f_i(\\mathbf{t}_{obs}), \\boldsymbol{\\Theta}\\right] = \\mathcal{N}\\left(\\mathbf{M}_i\\mathbf{m}_i, \\mathbf{M}_i\\right); \\;\\;\\; i = 1, \\dots, N$$\n",
    "$$\\left[y_i(\\mathbf{t}_i^*)|f_i(\\mathbf{t}^*), \\boldsymbol{\\Theta}\\right] = \\mathcal{N}\\left(f_i(\\mathbf{t}^*),  \\sigma^2_\\epsilon \\mathbf{I}\\right); \\;\\;\\; i =1,\\dots, N$$\n",
    "\n",
    "Thus we are left with just defining the priors on $\\boldsymbol{\\Theta} = \\{ \\boldsymbol{\\nu}_1,\\dots, \\boldsymbol{\\nu}_K, \\boldsymbol{\\Phi}_1,\\dots, \\boldsymbol{\\Phi}_R, \\sigma^2_\\epsilon, \\tau^2_1, \\dots, \\tau^2_K, \\mathbf{Z}\\}$. We can start with some standard priors for $\\sigma^2_\\epsilon$ and $\\boldsymbol{\\nu}_1,\\dots, \\boldsymbol{\\nu}_K$.\n",
    "$$\\left[\\sigma^2_\\epsilon\\right] = IG(a_0, b_0)$$\n",
    "$$\\left[\\boldsymbol{\\nu}_l|\\tau^2_l \\right] \\propto exp\\left(-\\frac{1}{2\\tau_l^2}\\boldsymbol{\\nu}_l'\\mathbf{P}\\boldsymbol{\\nu}_l\\right); \\;\\;\\; l = 1,\\dots, K$$\n",
    "$$\\left[\\tau^2_l \\right] = IG(a_1,b_1); \\;\\;\\; l = 1,\\dots, K$$\n",
    "where $\\mathbf{P}= \\begin{bmatrix}\n",
    "1 & -1 & 0 &  & \\\\\n",
    "-1 & 2 & -1 &  &  \\\\\n",
    " & \\ddots & \\ddots & \\ddots&  \\\\\n",
    " &  & -1 & 2 & -1  \\\\\n",
    " &  &  & -1 & 1 \\\\\n",
    "\\end{bmatrix}$"
   ]
  },
  {
   "cell_type": "markdown",
   "metadata": {},
   "source": [
    "From $\\textit{Sparse Bayesian infinite factor models}$ (Bhattacharya and Dunson, 2011), we can define a prior of $\\boldsymbol{\\Phi}_l$. Bhattacharya and Dunson have the following model\n",
    "$$y_i \\sim \\mathcal{N}_n(\\mathbf{0}, \\Omega); \\;\\;\\;\\;\\; \\Omega = \\boldsymbol{\\Lambda}\\boldsymbol{\\Lambda}' + \\boldsymbol{\\Sigma}$$\n",
    "where $\\boldsymbol{\\Sigma}$ is a $n \\times n$ diagonal matrix with non-negative entries, and $\\boldsymbol{\\Lambda} \\in \\mathbb{R}^{p \\times h}$. In this case, we will set $\\boldsymbol{\\Sigma} = \\mathbf{0}$, so we are just left with $\\Omega = \\boldsymbol{\\Lambda}\\boldsymbol{\\Lambda}'$."
   ]
  },
  {
   "cell_type": "markdown",
   "metadata": {},
   "source": [
    "We can use the multiplicative gamma process schinkage prior as defined by Bhattacharya and Dunson. Let $\\lambda_{jh}$ be the elements in $\\boldsymbol{\\Lambda}$ ($1 \\le j \\le P$,  $\\;\\;1 \\le h \\le \\infty$). Thus we can specify the following as our priors:\n",
    "$$ \\lambda_{jh} | \\phi_{jh},\\tau_h \\sim \\mathcal{N}(0, \\phi_{jh}^{-1}\\tau_h^{-1}), \\;\\;\\;\\; \\phi_{jh} \\sim Gamma(\\nu/2, \\nu/2), \\;\\;\\; \\tau_h = \\prod_{l=1}^h \\delta_l$$\n",
    "$$\\delta_1 \\sim Gamma(a_1, 1), \\;\\;\\; \\delta_l = Gamma(a_2, 1)\\;\\;\\; l \\ge 2$$\n"
   ]
  },
  {
   "cell_type": "markdown",
   "metadata": {},
   "source": [
    "We can approximate $\\boldsymbol{\\Omega}$ by $\\boldsymbol{\\Omega}_H = \\boldsymbol{\\Lambda}_H\\boldsymbol{\\Lambda}_H'$. Where all of the columns of $\\boldsymbol{\\lambda}$ from $H+1$ onwards are zero. Theorem 1 in Bhattacharya and Dunson says that the probability of $\\boldsymbol{\\Omega}_H$ being arbitarily close to $\\boldsymbol{\\Omega}$ converges to 1 at an exponential rate, so we do not have to worry about the truncation for large enough $H$."
   ]
  },
  {
   "cell_type": "markdown",
   "metadata": {},
   "source": [
    "Let $\\phi_{(i,j,l)}$ be the $(i,j)^{th}$ element of $\\boldsymbol{\\Phi}_l$. Thus we have the following:\n",
    "\n",
    "$$[\\phi_{(i,j,l)}|\\gamma_{(i,j,l)}, \\tilde{\\tau}_{j,l}] = \\mathcal{N}(0, \\gamma_{(i,j,l)}^{-1} \\tilde{\\tau}_{j,l}^{-1}); \\;\\;\\; i = 1,\\dots, P, \\;\\;\\; j = 1, \\dots, M,\\;\\;\\; l = 1,\\dots, R$$\n",
    "$$[\\gamma_{(i,j,l)}] = Gamma(\\nu/2, \\nu/2); \\;\\;\\; i = 1,\\dots, P, \\;\\;\\; j = 1, \\dots, M,\\;\\;\\; l = 1,\\dots, R$$\n",
    "$$\\tilde{\\tau}_{(j,l)} = \\prod_{n=1}^j \\delta_{(n,l)}$$\n",
    "$$[\\delta_{(1,l)} ] = Gamma(a_{(1,l)}, 1); \\;\\;\\; l = 1,\\dots, R$$\n",
    "$$[\\delta_{(j,l)}] = Gamma(a_{(2,l)}, 1); \\;\\;\\; j = 2, \\dots, M \\;\\;\\; l = 1,\\dots, R$$\n",
    "$$[a_{(1,l)}] = Gamma(\\alpha_{(1,l)}, \\beta_{(1,l)}); \\;\\;\\; l = 1,\\dots, R$$\n",
    "$$[a_{(2,l)}] = Gamma(\\alpha_{(2,l)}, \\beta_{(2,l)}); \\;\\;\\; l = 1,\\dots, R$$\n",
    "\n",
    "In Dunson, $\\alpha_{(i,l)}= 2$, $\\beta_{(i,l)} = 1$.\n"
   ]
  },
  {
   "cell_type": "markdown",
   "metadata": {},
   "source": [
    "We will start with the case where $k$ is a fixed parameter in the model. Thus we can define a distribution over the binary matrix $\\mathbf{Z}$ in a similar fashion to how Griffiths and Ghahramani defined the distribution over a finite binary matrix when deriving the IBP ($\\textit{The Indian Buffet Process: An Introduction and Review (Griffiths and Ghahramani 2011)}$).\n",
    "Thus we will have the following distribution over $\\mathbf{Z} \\in \\mathbb{R}^{N \\times K}$\n",
    "$$[z_{il}|\\pi_l] = Bernoulli(\\pi_l) \\;\\; i = 1,\\dots, N \\;\\; l = 1, \\dots, K$$\n",
    "$$[\\pi_l] = Beta(\\alpha/K, 1)\\;\\; l = 1, \\dots, K$$"
   ]
  },
  {
   "cell_type": "markdown",
   "metadata": {},
   "source": [
    "## Posterior Inference"
   ]
  },
  {
   "cell_type": "markdown",
   "metadata": {},
   "source": [
    "Let $\\boldsymbol{\\zeta}$ be the collection of all the random variables in this model, and let $\\boldsymbol{\\zeta}_{-\\theta}$ be the collection of all random variables in the model minus $\\theta$. Thus we have\n",
    "\n",
    "$$\\sigma_{\\epsilon}^2|\\boldsymbol{\\zeta}_{-\\sigma_{\\epsilon}^2} = \\sigma_{\\epsilon}^2|y_1(\\mathbf{t}_i^{obs}), \\dots, y_N(\\mathbf{t}_i^{obs}), y_1(\\mathbf{t}_i^*), \\dots, y_N(\\mathbf{t}_i^*), f_1(\\mathbf{t}_i^{obs}), \\dots, f_N(\\mathbf{t}_{obs}), f_1(\\mathbf{t}_i^*), \\dots, f_N(\\mathbf{t}_i^*)$$\n",
    "$$ \\propto (\\sigma^2_\\epsilon)^{- a_0 -1} exp\\left\\{-\\frac{b_0}{\\sigma^2_\\epsilon}\\right\\}\\prod_{i=1}^N (2\\pi\\sigma^2_\\epsilon)^{\\tilde{n}/2} exp\\left\\{-\\frac{1}{2\\sigma^2_\\epsilon}||y_i(\\mathbf{t}_i^{obs}) - f_i(\\mathbf{t}_i^{obs})||^2_2\\right\\}(2\\pi\\sigma^2_\\epsilon)^{g/2} exp\\left\\{-\\frac{1}{2\\sigma^2_\\epsilon}||y_i(\\mathbf{t}_i^*). - f_i(\\mathbf{t}_i^*)||^2_2 \\right\\}$$\n",
    "$$\\propto (\\sigma^2_\\epsilon)^{-(a_0 + \\frac{1}{2}(N\\tilde{n} + Ng)) -1} exp\\left\\{-\\frac{b_0 + \\frac{1}{2}\\sum_{i=1}^N\\left(||y_i(\\mathbf{t}_i^{obs}) - f_i(\\mathbf{t}_i^{obs})||^2_2 + ||y_i(\\mathbf{t}_i^*). - f_i(\\mathbf{t}_i^*)||^2_2\\right)}{\\sigma^2_\\epsilon} \\right\\}$$\n",
    "Thus we have\n",
    "$$\\sigma_{\\epsilon}^2|\\boldsymbol{\\zeta}_{-\\sigma_{\\epsilon}^2} \\sim IG\\left(a_0 + \\frac{1}{2}(N\\tilde{n} + Ng), b_0 + \\frac{1}{2}\\sum_{i=1}^N\\left(||y_i(\\mathbf{t}_i^{obs}) - f_i(\\mathbf{t}_i^{obs})||^2_2 + ||y_i(\\mathbf{t}_i^*). - f_i(\\mathbf{t}_i^*)||^2_2\\right)\\right)$$\n",
    "\n",
    "***"
   ]
  },
  {
   "cell_type": "markdown",
   "metadata": {},
   "source": [
    "$$f_i(\\mathbf{t}_i^{obs})| \\boldsymbol{\\zeta}_{-f_i(\\mathbf{t}_i^{obs})} = f_i(\\mathbf{t}_i^{obs})|y_i(\\mathbf{t}_i^{obs}), f_i(\\mathbf{t}_i^*),\\mathbf{z}_1, \\dots, \\mathbf{z}_K, \\boldsymbol{\\Phi}_1, \\dots, \\boldsymbol{\\Phi}_R, \\boldsymbol{\\nu}_1, \\dots, \\boldsymbol{\\nu}_K, \\sigma^2_\\epsilon; \\;\\;\\; i = 1, \\dots, N$$\n",
    "$$\\begin{aligned}\n",
    "\\propto & exp\\left\\{-\\frac{1}{2}\\left(f_i(\\mathbf{t}_i^{obs}) - \\sum_{l=1}^Kz_{il}S(\\mathbf{t}_i^{obs})'\\boldsymbol{\\nu}_l\\right)'\\left(S(\\mathbf{t}_i^{obs})'(\\boldsymbol{\\Phi}_{\\Omega(\\mathbf{z}_i)}\\boldsymbol{\\Phi}_{\\Omega(\\mathbf{z}_i)}')S(\\mathbf{t}_i^{obs}) \\right)^+\\left(f_i(\\mathbf{t}_i^{obs}) - \\sum_{l=1}^Kz_{il}S(\\mathbf{t}_i^{obs})'\\boldsymbol{\\nu}_l\\right)\\right\\} \\\\\n",
    "& \\times exp\\left\\{-\\frac{1}{2}\\left(f_i(\\mathbf{t}_i^*) - \\mathbf{D}_i^+\\left(\\mathbf{C}_i\\left(\\sum_{l=1}^Kz_{il}S(\\mathbf{t}_i^{obs})'\\boldsymbol{\\nu}_l - f_i(\\mathbf{t}_i^{obs})\\right) + \\mathbf{D}_i\\left(\\sum_{l=1}^Kz_{il}S(\\mathbf{t}_i^*)'\\boldsymbol{\\nu}_l \\right) \\right)\\right)'\\mathbf{D}_i\\left(f_i(\\mathbf{t}_i^*) - \\mathbf{D}_i^+\\left(\\mathbf{C}_i\\left(\\sum_{l=1}^Kz_{il}S(\\mathbf{t}_i^{obs})'\\boldsymbol{\\nu}_l - f_i(\\mathbf{t}_i^{obs})\\right) + \\mathbf{D}_i\\left(\\sum_{l=1}^Kz_{il}S(\\mathbf{t}_i^*)'\\boldsymbol{\\nu}_l \\right) \\right)\\right)\\right\\}\\\\\n",
    "& \\times exp\\left\\{-\\frac{1}{2\\sigma^2_\\epsilon}(y_i(\\mathbf{t}_i^{obs}) - f_i(\\mathbf{t}_i^{obs}))'(y_i(\\mathbf{t}_i^{obs}) - f_i(\\mathbf{t}_i^{obs})) \\right\\}\n",
    "\\end{aligned}$$"
   ]
  },
  {
   "cell_type": "markdown",
   "metadata": {},
   "source": [
    "$$\\begin{aligned}\n",
    "\\propto exp\\left\\{-\\frac{1}{2}\\left[ f_i(\\mathbf{t}_i^{obs})' \\left(\\left(S(\\mathbf{t}_i^{obs})'(\\boldsymbol{\\Phi}_{\\Omega(\\mathbf{z}_i)}\\boldsymbol{\\Phi}_{\\Omega(\\mathbf{z}_i)}')S(\\mathbf{t}_i^{obs}) \\right)^+ + \\mathbf{C}_i'\\mathbf{D}_i^+\\mathbf{C}_i + \\frac{1}{\\sigma^2_\\epsilon}\\mathbf{I}_{\\tilde{n}_i}\\right) f_i(\\mathbf{t}_i^{obs})\\\\\n",
    "- 2f_i(\\mathbf{t}_i^{obs})'\\left(\\frac{1}{\\sigma^2_\\epsilon}y_i(\\mathbf{t}_i^{obs}) + \\mathbf{C}_i'\\mathbf{D}_i^+\\left(\\mathbf{C}_i\\left[\\sum_{l=1}^Kz_{il}S(\\mathbf{t}_i^*)'\\boldsymbol{\\nu}_l\\right] + \\mathbf{D}_i\\left[ \\sum_{l=1}^Kz_{il}S(\\mathbf{t}_i^*)'\\boldsymbol{\\nu}_l\\right]\\right) + \\left(S(\\mathbf{t}_i^{obs})'(\\boldsymbol{\\Phi}_{\\Omega(\\mathbf{z}_i)}\\boldsymbol{\\Phi}_{\\Omega(\\mathbf{z}_i)}')S(\\mathbf{t}_i^{obs}) \\right)^+\\left[\\sum_{l=1}^Kz_{il}\\mathbf{S}(\\mathbf{t}_i^{obs})'\\boldsymbol{\\nu}_l \\right] \\right)\\right]\\right\\}\n",
    "\\end{aligned}$$"
   ]
  },
  {
   "cell_type": "markdown",
   "metadata": {},
   "source": [
    "Let $$\\mathbf{W}_i = \\left(\\left(S(\\mathbf{t}_i^{obs})'(\\boldsymbol{\\Phi}_{\\Omega(\\mathbf{z}_i)}\\boldsymbol{\\Phi}_{\\Omega(\\mathbf{z}_i)}')S(\\mathbf{t}_i^{obs}) \\right)^+ + \\mathbf{C}_i'\\mathbf{D}_i^+\\mathbf{C}_i + \\frac{1}{\\sigma^2_\\epsilon}\\mathbf{I}_{\\tilde{n}_i}\\right)^+$$\n",
    "and \n",
    "$$\\mathbf{w}_i = \\frac{1}{\\sigma^2_\\epsilon}y_i(\\mathbf{t}_i^{obs}) + \\mathbf{C}_i'\\mathbf{D}_i^+\\left(\\mathbf{C}_i\\left[\\sum_{l=1}^Kz_{il}S(\\mathbf{t}_i^*)'\\boldsymbol{\\nu}_l\\right] + \\mathbf{D}_i\\left[ \\sum_{l=1}^Kz_{il}S(\\mathbf{t}_i^*)'\\boldsymbol{\\nu}_l\\right]\\right) + \\left(S(\\mathbf{t}_i^{obs})'(\\boldsymbol{\\Phi}_{\\Omega(\\mathbf{z}_i)}\\boldsymbol{\\Phi}_{\\Omega(\\mathbf{z}_i)}')S(\\mathbf{t}_i^{obs}) \\right)^+\\left[\\sum_{l=1}^Kz_{il}\\mathbf{S}(\\mathbf{t}_i^{obs})'\\boldsymbol{\\nu}_l \\right]$$\n",
    "\n",
    "Thus we have that\n",
    "$$f_i(\\mathbf{t}_i^{obs})| \\boldsymbol{\\zeta}_{-f_i(\\mathbf{t}_i^{obs})} \\sim \\mathcal{N}(\\mathbf{W}_i\\mathbf{w}_i, \\mathbf{W}_i); \\;\\;\\; i = 1,\\dots, N$$\n",
    "\n",
    "***"
   ]
  },
  {
   "cell_type": "markdown",
   "metadata": {},
   "source": [
    "$$f_i(\\mathbf{t}_i^*)| \\boldsymbol{\\zeta}_{-f_i(\\mathbf{t}_i^*)} = f_i(\\mathbf{t}_i^*)|y_i(\\mathbf{t}_i^*), f_i(\\mathbf{t}_i^{obs}), \\mathbf{z}_1, \\dots, \\mathbf{z}_K, \\boldsymbol{\\Phi}_1, \\dots, \\boldsymbol{\\Phi}_R, \\boldsymbol{\\nu}_1, \\dots, \\boldsymbol{\\nu}_K,\\sigma^2_\\epsilon$$\n",
    "\n",
    "$$\\propto exp\\left\\{-\\frac{1}{2}\\left(f_i(\\mathbf{t}_i^*) - \\mathbf{M}_i\\mathbf{m}_i\\right)'\\mathbf{M}^{+}_i\\left(f_i(\\mathbf{t}_i^*) - \\mathbf{M}_i\\mathbf{m}_i\\right)\\right\\} exp\\left\\{-\\frac{1}{2\\sigma^2_\\epsilon}(y_i(\\mathbf{t}_i^*) - f_i(\\mathbf{t}_i^*))'(y_i(\\mathbf{t}_i^*) - f_i(\\mathbf{t}_i^*)) \\right\\}$$ "
   ]
  },
  {
   "cell_type": "markdown",
   "metadata": {},
   "source": [
    "$$\\propto exp\\left\\{-\\frac{1}{2}\\left[ f_i(\\mathbf{t}_i^*)' \\left(\\mathbf{M}^+_i  + \\frac{1}{\\sigma^2_\\epsilon}\\mathbf{I}_{g_i}\\right) f_i(\\mathbf{t}_i^*)\n",
    "- 2f_i(\\mathbf{t}_i^*)'\\left(\\frac{1}{\\sigma^2_\\epsilon}y_i(\\mathbf{t}_i^*) + \\mathbf{M}_i^+\\mathbf{M}_i\\mathbf{m}_i\\right)\\right]\\right\\}$$"
   ]
  },
  {
   "cell_type": "markdown",
   "metadata": {},
   "source": [
    "Let\n",
    "$$\\tilde{\\mathbf{W}}_i = \\left(\\mathbf{M}^+_i + \\frac{1}{\\sigma^2_\\epsilon}\\mathbf{I}_{g_i}\\right)^+$$"
   ]
  },
  {
   "cell_type": "markdown",
   "metadata": {},
   "source": [
    "and\n",
    "$$\\tilde{\\mathbf{w}}_i = \\frac{1}{\\sigma^2_\\epsilon}y_i(\\mathbf{t}_i^*) + \\mathbf{M}_i^+\\mathbf{M}_i\\mathbf{m}_i$$"
   ]
  },
  {
   "cell_type": "markdown",
   "metadata": {},
   "source": [
    "Thus we have that \n",
    "$$f_i(\\mathbf{t}^*)| \\boldsymbol{\\zeta}_{-f_i(\\mathbf{t}^*)} \\sim \\mathcal{N}(\\tilde{\\mathbf{W}}_i\\tilde{\\mathbf{w}}_i, \\tilde{\\mathbf{W}}_i); \\;\\;\\; i = 1, \\dots, N$$\n",
    "\n",
    "***"
   ]
  },
  {
   "cell_type": "markdown",
   "metadata": {},
   "source": [
    "$$\\boldsymbol{\\nu}_i| \\boldsymbol{\\zeta}_{-\\boldsymbol{\\nu}_i} = \\boldsymbol{\\nu}_i|f_1(\\mathbf{t}_1^{obs}), \\dots, f_N(\\mathbf{t}_N^{obs}), f_1(\\mathbf{t}_1^*),\\dots, f_N(\\mathbf{t}_N^*), \\tau_i^2, \\boldsymbol{\\Phi}_1, \\dots, \\boldsymbol{\\Phi}_R, \\mathbf{z}_1, \\dots, \\mathbf{z}_k; \\;\\;\\; i = 1, \\dots, K$$"
   ]
  },
  {
   "cell_type": "markdown",
   "metadata": {},
   "source": [
    "$$\\begin{aligned}\n",
    "\\propto & exp\\left\\{-\\frac{1}{2\\tau_i^2}\\boldsymbol{\\nu}_i'\\mathbf{P}\\boldsymbol{\\nu}_i \\right\\}\\\\\n",
    "&\\times \\prod_{j=1}^N exp\\left\\{-\\frac{1}{2}\\left(f_j(\\mathbf{t}_j^{obs}) - \\sum_{l=1}^Kz_{jl}S(\\mathbf{t}_j^{obs})'\\boldsymbol{\\nu}_l\\right)'\\left(S(\\mathbf{t}_j^{obs})'(\\boldsymbol{\\Phi}_{\\Omega(\\mathbf{z}_j)}\\boldsymbol{\\Phi}_{\\Omega(\\mathbf{z}_j)}')S(\\mathbf{t}_j^{obs}) \\right)^+\\left(f_j(\\mathbf{t}_j^{obs}) - \\sum_{l=1}^Kz_{jl}S(\\mathbf{t}_j^{obs})'\\boldsymbol{\\nu}_l\\right)\\right\\} \\\\\n",
    "& \\times \\prod_{j=1}^Nexp\\left\\{-\\frac{1}{2}\\left(f_i(\\mathbf{t}_j^*) - \\mathbf{D}_j^+\\left(\\mathbf{C}_j\\left(\\sum_{l=1}^Kz_{jl}S(\\mathbf{t}_j^{obs})'\\boldsymbol{\\nu}_l - f_j(\\mathbf{t}_j^{obs})\\right) + \\mathbf{D}_j\\left(\\sum_{l=1}^Kz_{jl}S(\\mathbf{t}_j^*)'\\boldsymbol{\\nu}_l \\right) \\right)\\right)'\\mathbf{D}_j\\left(f_j(\\mathbf{t}_j^*) - \\mathbf{D}_j^+\\left(\\mathbf{C}_j\\left(\\sum_{l=1}^Kz_{jl}S(\\mathbf{t}_j^{obs})'\\boldsymbol{\\nu}_l - f_j(\\mathbf{t}_j^{obs})\\right) + \\mathbf{D}_j\\left(\\sum_{l=1}^Kz_{jl}S(\\mathbf{t}_j^*)'\\boldsymbol{\\nu}_l \\right) \\right)\\right)\\right\\}\\\\\n",
    "\\end{aligned}$$"
   ]
  },
  {
   "cell_type": "markdown",
   "metadata": {},
   "source": [
    "$$\\begin{aligned}\n",
    "\\propto exp\\left\\{-\\frac{1}{2} \\left[\\boldsymbol{\\nu}_i'\\left(\\frac{1}{\\tau_i^2}\\mathbf{P} + \\sum_{j=1}^N \\left(z_{ji}S(\\mathbf{t}_j^{obs})\\left(S(\\mathbf{t}_j^{obs})'(\\boldsymbol{\\Phi}_{\\Omega(\\mathbf{z}_j)}\\boldsymbol{\\Phi}_{\\Omega(\\mathbf{z}_j)}')S(\\mathbf{t}_j^{obs}) \\right)^+ S(\\mathbf{t}_j^{obs})'\\right) + \\sum_{j=1}^N \\left(z_{ji}\\left(S(\\mathbf{t}_j^{obs})\\mathbf{C}_j' + S(\\mathbf{t}_j^*)\\mathbf{D}_j'\\right)\\mathbf{D}_j^+\\left( \\mathbf{C}_j S(\\mathbf{t}_j^{obs})' + \\mathbf{D}_j S(\\mathbf{t}_j^*)'\\right)\\right)\\right)\\boldsymbol{\\nu}_i \\\\\n",
    " -2\\nu_i' \\left(\\sum_{j=1}^N\\left[z_{ji}S(\\mathbf{t}_j^{obs})\\left(S(\\mathbf{t}_j^{obs})'\\boldsymbol{\\Phi}_{\\Omega(\\mathbf{z}_j)}\\boldsymbol{\\Phi}_{\\Omega(\\mathbf{z}_j)}')S(\\mathbf{t}_j^{obs}) \\right)^+\\left(f_j(\\mathbf{t}_j^{obs}) - \\sum_{l\\ne i}z_{jl}S(\\mathbf{t}_j^{obs})'\\boldsymbol{\\nu}_l\\right) \\right]  + \\sum_{j=1}^N z_{ji}\\left(\\left(S(\\mathbf{t}_j^{obs})\\mathbf{C}_j' + S(\\mathbf{t}_j^*) \\mathbf{D}_j\\right)\\mathbf{D}_j^+\\left(\\mathbf{D}_j f_j(\\mathbf{t}_j^*) + \\mathbf{C}_j f_j(\\mathbf{t}_j^{obs}) - \\mathbf{C}_j \\left(\\sum_{l \\ne i} z_{jl}S(\\mathbf{t}_j^{obs})\\boldsymbol{\\nu}_l \\right) - \\mathbf{D}_j\\sum_{l \\ne i}\\left(z_{jl}S(\\mathbf{t}_j^*)\\boldsymbol{\\nu}_l \\right)\\right)\\right) \\right)\\right] \\right\\}\\\\\n",
    "\\end{aligned}$$"
   ]
  },
  {
   "cell_type": "markdown",
   "metadata": {},
   "source": [
    "Thus, letting $$\\mathbf{B}_i = \\left(\\frac{1}{\\tau_i^2}\\mathbf{P} + \\sum_{j=1}^N \\left(z_{ji}S(\\mathbf{t}_j^{obs})\\left(S(\\mathbf{t}_j^{obs})'(\\boldsymbol{\\Phi}_{\\Omega(\\mathbf{z}_j)}\\boldsymbol{\\Phi}_{\\Omega(\\mathbf{z}_j)}')S(\\mathbf{t}_j^{obs}) \\right)^+ S(\\mathbf{t}_j^{obs})'\\right) + \\sum_{j=1}^N \\left(z_{ji}\\left(S(\\mathbf{t}_j^{obs})\\mathbf{C}_j' + S(\\mathbf{t}_j^*)\\mathbf{D}_j'\\right)\\mathbf{D}_j^+\\left( \\mathbf{C}_j S(\\mathbf{t}_j^{obs})' + \\mathbf{D}_j S(\\mathbf{t}_j^*)'\\right)\\right)\\right)^+$$\n",
    "and \n",
    "$$\\mathbf{b}_i = \\sum_{j=1}^N\\left[z_{ji}S(\\mathbf{t}_j^{obs})\\left(S(\\mathbf{t}_j^{obs})'\\boldsymbol{\\Phi}_{\\Omega(\\mathbf{z}_j)}\\boldsymbol{\\Phi}_{\\Omega(\\mathbf{z}_j)}')S(\\mathbf{t}_j^{obs}) \\right)^+\\left(f_j(\\mathbf{t}_j^{obs}) - \\sum_{l\\ne i}z_{jl}S(\\mathbf{t}_j^{obs})'\\boldsymbol{\\nu}_l\\right) \\right]  + \\sum_{j=1}^N z_{ji}\\left(\\left(S(\\mathbf{t}_j^{obs})\\mathbf{C}_j' + S(\\mathbf{t}_j^*) \\mathbf{D}_j\\right)\\mathbf{D}_j^+\\left(\\mathbf{D}_j f_j(\\mathbf{t}_j^*) + \\mathbf{C}_j f_j(\\mathbf{t}_j^{obs}) - \\mathbf{C}_j \\left(\\sum_{l \\ne i} z_{jl}S(\\mathbf{t}_j^{obs})\\boldsymbol{\\nu}_l \\right) - \\mathbf{D}_j\\sum_{l \\ne i}\\left(z_{jl}S(\\mathbf{t}_j^*)\\boldsymbol{\\nu}_l \\right)\\right)\\right)$$\n",
    "we have that \n",
    "$$\\boldsymbol{\\nu}_i| \\boldsymbol{\\zeta}_{-\\boldsymbol{\\nu}_i} \\sim \\mathcal{N}\\left(\\mathbf{B}_i\\mathbf{b}_i, \\mathbf{B}_i\\right)$$"
   ]
  },
  {
   "cell_type": "markdown",
   "metadata": {},
   "source": [
    "***\n",
    "\n",
    "NOTES\n",
    "\n",
    "- KL expansion is used because it gives the reader an intuition on why we use the particular form to estimate the covariance\n",
    "    - $S(t)'\\Phi$ can no longer be interpreted as eigen-functions\n",
    "        - In order for us to interperet it that way, we would need to enforce orthogonality (stiefel manifold) and also enforce that the magnitude is decreasing\n",
    "        - These restrictions are often more trouble than it is worth because we can just estimate the eigenfunctions from the estimated covariance matrix at each MCMC iteration. Theoretically this will be equivalent to estimating the eigen-functions directly\n",
    "            - By using this method, we do not have to worry about rotations of eigenfunctions, as our estimator is invariant to that. It should also lead to better exploration of the sample space of covariance matrices."
   ]
  }
 ],
 "metadata": {
  "kernelspec": {
   "display_name": "Python 3",
   "language": "python",
   "name": "python3"
  },
  "language_info": {
   "codemirror_mode": {
    "name": "ipython",
    "version": 3
   },
   "file_extension": ".py",
   "mimetype": "text/x-python",
   "name": "python",
   "nbconvert_exporter": "python",
   "pygments_lexer": "ipython3",
   "version": "3.7.0"
  }
 },
 "nbformat": 4,
 "nbformat_minor": 2
}
